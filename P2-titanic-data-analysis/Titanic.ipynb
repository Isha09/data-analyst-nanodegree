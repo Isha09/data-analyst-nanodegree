{
 "cells": [
  {
   "cell_type": "markdown",
   "metadata": {
    "collapsed": true
   },
   "source": [
    "#Titanic Data Analysis\n",
    "\n",
    "##1. Introduction\n",
    "RMS Titanic was a British passenger liner that sank in the North Atlantic Ocean in the early morning of 15 April 1912, \n",
    "after colliding with an iceberg during her maiden voyage from Southampton to New York City. \n",
    "Of the estimated 2,224 passengers and crew aboard, more than 1,500 died, making it one of the deadliest commercial \n",
    "peacetime maritime disasters in modern history. \n",
    "\n",
    "We have a sample dataset that contains demographics and passenger information from 891 of the 2224 passengers and \n",
    "crew on board the Titanic. \n",
    "Description of datafields can be found at (https://www.kaggle.com/c/titanic/data)\n",
    "\n",
    "##2. Questions\n",
    "My intuition is that gender and age might have played a role in determining survival. In any case, it would be worthwhile to look at these aspects. Also, the passenger class is also worth looking at. It's quite possible that the elite would have more security procedures in place. As such, I will be exploring the following questions - \n",
    "\n",
    "* Which gender had better survival chance?\n",
    "* Had social class any impact on survival?\n",
    "* Did any age group had better chance of survival?\n",
    "* What about the survival rate of children, women and men?\n",
    "\n",
    "I will start by loading the sample data in pandas dataframe. "
   ]
  },
  {
   "cell_type": "code",
   "execution_count": 1,
   "metadata": {
    "collapsed": false
   },
   "outputs": [
    {
     "data": {
      "text/html": [
       "<div>\n",
       "<table border=\"1\" class=\"dataframe\">\n",
       "  <thead>\n",
       "    <tr style=\"text-align: right;\">\n",
       "      <th></th>\n",
       "      <th>PassengerId</th>\n",
       "      <th>Survived</th>\n",
       "      <th>Pclass</th>\n",
       "      <th>Name</th>\n",
       "      <th>Sex</th>\n",
       "      <th>Age</th>\n",
       "      <th>SibSp</th>\n",
       "      <th>Parch</th>\n",
       "      <th>Ticket</th>\n",
       "      <th>Fare</th>\n",
       "      <th>Cabin</th>\n",
       "      <th>Embarked</th>\n",
       "    </tr>\n",
       "  </thead>\n",
       "  <tbody>\n",
       "    <tr>\n",
       "      <th>0</th>\n",
       "      <td>1</td>\n",
       "      <td>0</td>\n",
       "      <td>3</td>\n",
       "      <td>Braund, Mr. Owen Harris</td>\n",
       "      <td>male</td>\n",
       "      <td>22.0</td>\n",
       "      <td>1</td>\n",
       "      <td>0</td>\n",
       "      <td>A/5 21171</td>\n",
       "      <td>7.2500</td>\n",
       "      <td>NaN</td>\n",
       "      <td>S</td>\n",
       "    </tr>\n",
       "    <tr>\n",
       "      <th>1</th>\n",
       "      <td>2</td>\n",
       "      <td>1</td>\n",
       "      <td>1</td>\n",
       "      <td>Cumings, Mrs. John Bradley (Florence Briggs Th...</td>\n",
       "      <td>female</td>\n",
       "      <td>38.0</td>\n",
       "      <td>1</td>\n",
       "      <td>0</td>\n",
       "      <td>PC 17599</td>\n",
       "      <td>71.2833</td>\n",
       "      <td>C85</td>\n",
       "      <td>C</td>\n",
       "    </tr>\n",
       "    <tr>\n",
       "      <th>2</th>\n",
       "      <td>3</td>\n",
       "      <td>1</td>\n",
       "      <td>3</td>\n",
       "      <td>Heikkinen, Miss. Laina</td>\n",
       "      <td>female</td>\n",
       "      <td>26.0</td>\n",
       "      <td>0</td>\n",
       "      <td>0</td>\n",
       "      <td>STON/O2. 3101282</td>\n",
       "      <td>7.9250</td>\n",
       "      <td>NaN</td>\n",
       "      <td>S</td>\n",
       "    </tr>\n",
       "    <tr>\n",
       "      <th>3</th>\n",
       "      <td>4</td>\n",
       "      <td>1</td>\n",
       "      <td>1</td>\n",
       "      <td>Futrelle, Mrs. Jacques Heath (Lily May Peel)</td>\n",
       "      <td>female</td>\n",
       "      <td>35.0</td>\n",
       "      <td>1</td>\n",
       "      <td>0</td>\n",
       "      <td>113803</td>\n",
       "      <td>53.1000</td>\n",
       "      <td>C123</td>\n",
       "      <td>S</td>\n",
       "    </tr>\n",
       "    <tr>\n",
       "      <th>4</th>\n",
       "      <td>5</td>\n",
       "      <td>0</td>\n",
       "      <td>3</td>\n",
       "      <td>Allen, Mr. William Henry</td>\n",
       "      <td>male</td>\n",
       "      <td>35.0</td>\n",
       "      <td>0</td>\n",
       "      <td>0</td>\n",
       "      <td>373450</td>\n",
       "      <td>8.0500</td>\n",
       "      <td>NaN</td>\n",
       "      <td>S</td>\n",
       "    </tr>\n",
       "  </tbody>\n",
       "</table>\n",
       "</div>"
      ],
      "text/plain": [
       "   PassengerId  Survived  Pclass  \\\n",
       "0            1         0       3   \n",
       "1            2         1       1   \n",
       "2            3         1       3   \n",
       "3            4         1       1   \n",
       "4            5         0       3   \n",
       "\n",
       "                                                Name     Sex   Age  SibSp  \\\n",
       "0                            Braund, Mr. Owen Harris    male  22.0      1   \n",
       "1  Cumings, Mrs. John Bradley (Florence Briggs Th...  female  38.0      1   \n",
       "2                             Heikkinen, Miss. Laina  female  26.0      0   \n",
       "3       Futrelle, Mrs. Jacques Heath (Lily May Peel)  female  35.0      1   \n",
       "4                           Allen, Mr. William Henry    male  35.0      0   \n",
       "\n",
       "   Parch            Ticket     Fare Cabin Embarked  \n",
       "0      0         A/5 21171   7.2500   NaN        S  \n",
       "1      0          PC 17599  71.2833   C85        C  \n",
       "2      0  STON/O2. 3101282   7.9250   NaN        S  \n",
       "3      0            113803  53.1000  C123        S  \n",
       "4      0            373450   8.0500   NaN        S  "
      ]
     },
     "execution_count": 1,
     "metadata": {},
     "output_type": "execute_result"
    }
   ],
   "source": [
    "# Import libraries\n",
    "import pandas as pd\n",
    "import numpy as np\n",
    "import matplotlib.pyplot as plt\n",
    "import seaborn as sns\n",
    "import scipy.stats as stats\n",
    "\n",
    "# Render plots inline\n",
    "%matplotlib inline\n",
    "\n",
    "# read file and create dataframe\n",
    "filename = 'titanic-data.csv'\n",
    "titanic_data = pd.read_csv(filename)\n",
    "\n",
    "#print sample records\n",
    "titanic_data.head()"
   ]
  },
  {
   "cell_type": "code",
   "execution_count": 2,
   "metadata": {
    "collapsed": false
   },
   "outputs": [
    {
     "data": {
      "text/plain": [
       "PassengerId      0\n",
       "Survived         0\n",
       "Pclass           0\n",
       "Name             0\n",
       "Sex              0\n",
       "Age            177\n",
       "SibSp            0\n",
       "Parch            0\n",
       "Ticket           0\n",
       "Fare             0\n",
       "Cabin          687\n",
       "Embarked         2\n",
       "dtype: int64"
      ]
     },
     "execution_count": 2,
     "metadata": {},
     "output_type": "execute_result"
    }
   ],
   "source": [
    "#number of missing values for each column\n",
    "titanic_data.isnull().sum()"
   ]
  },
  {
   "cell_type": "markdown",
   "metadata": {},
   "source": [
    "So we can see that around 80% of cabin information is missing. Although we don't need Cabin data to answer any of our above questions but let's see for each social class how many people having cabins survived."
   ]
  },
  {
   "cell_type": "code",
   "execution_count": 3,
   "metadata": {
    "collapsed": false
   },
   "outputs": [
    {
     "name": "stdout",
     "output_type": "stream",
     "text": [
      "Pclass  Survived\n",
      "1       0            59\n",
      "        1           117\n",
      "2       0             3\n",
      "        1            13\n",
      "3       0             6\n",
      "        1             6\n",
      "dtype: int64\n"
     ]
    },
    {
     "data": {
      "image/png": "[encoded data removed]",
      "text/plain": [
       "<matplotlib.figure.Figure at 0x7f4e702be350>"
      ]
     },
     "metadata": {},
     "output_type": "display_data"
    }
   ],
   "source": [
    "#survival status of people having cabin\n",
    "non_missing_cabin = titanic_data[titanic_data.Cabin.notnull()]\n",
    "sns.factorplot('Survived', hue='Pclass', data = non_missing_cabin, kind='count')\n",
    "sns.plt.title('Survivors and non-survivors with cabin')\n",
    "groupedby_class_survived_size = non_missing_cabin.groupby(['Pclass','Survived']).size()\n",
    "print groupedby_class_survived_size"
   ]
  },
  {
   "cell_type": "markdown",
   "metadata": {},
   "source": [
    "Seems like first class people had more cabins as compared to other class. But this doesn't tell much whether having cabin had any effect on survival as most of cabin information is missing. We will ignore this column for further analysis.\n",
    "\n",
    "We also see that around 20% of records have missing age. We will keep this in mind when analyzing age.\n"
   ]
  },
  {
   "cell_type": "code",
   "execution_count": 4,
   "metadata": {
    "collapsed": false
   },
   "outputs": [
    {
     "name": "stdout",
     "output_type": "stream",
     "text": [
      "Number for females and males with age missing are 53 and 124 respectively\n"
     ]
    }
   ],
   "source": [
    "# Determine number of males and females with missing age values\n",
    "total_missing_age = pd.isnull(titanic_data['Age'])\n",
    "missing_age_female = titanic_data[total_missing_age]['Sex'] == 'female'\n",
    "missing_age_male = titanic_data[total_missing_age]['Sex'] == 'male'\n",
    "\n",
    "print 'Number for females and males with age missing are {} and {} respectively'.format(missing_age_female.sum(),missing_age_male.sum())"
   ]
  },
  {
   "cell_type": "code",
   "execution_count": 5,
   "metadata": {
    "collapsed": false
   },
   "outputs": [
    {
     "data": {
      "text/html": [
       "<div>\n",
       "<table border=\"1\" class=\"dataframe\">\n",
       "  <thead>\n",
       "    <tr style=\"text-align: right;\">\n",
       "      <th></th>\n",
       "      <th>PassengerId</th>\n",
       "      <th>Survived</th>\n",
       "      <th>Pclass</th>\n",
       "      <th>Age</th>\n",
       "      <th>SibSp</th>\n",
       "      <th>Parch</th>\n",
       "      <th>Fare</th>\n",
       "    </tr>\n",
       "  </thead>\n",
       "  <tbody>\n",
       "    <tr>\n",
       "      <th>count</th>\n",
       "      <td>891.000000</td>\n",
       "      <td>891.000000</td>\n",
       "      <td>891.000000</td>\n",
       "      <td>714.000000</td>\n",
       "      <td>891.000000</td>\n",
       "      <td>891.000000</td>\n",
       "      <td>891.000000</td>\n",
       "    </tr>\n",
       "    <tr>\n",
       "      <th>mean</th>\n",
       "      <td>446.000000</td>\n",
       "      <td>0.383838</td>\n",
       "      <td>2.308642</td>\n",
       "      <td>29.699118</td>\n",
       "      <td>0.523008</td>\n",
       "      <td>0.381594</td>\n",
       "      <td>32.204208</td>\n",
       "    </tr>\n",
       "    <tr>\n",
       "      <th>std</th>\n",
       "      <td>257.353842</td>\n",
       "      <td>0.486592</td>\n",
       "      <td>0.836071</td>\n",
       "      <td>14.526497</td>\n",
       "      <td>1.102743</td>\n",
       "      <td>0.806057</td>\n",
       "      <td>49.693429</td>\n",
       "    </tr>\n",
       "    <tr>\n",
       "      <th>min</th>\n",
       "      <td>1.000000</td>\n",
       "      <td>0.000000</td>\n",
       "      <td>1.000000</td>\n",
       "      <td>0.420000</td>\n",
       "      <td>0.000000</td>\n",
       "      <td>0.000000</td>\n",
       "      <td>0.000000</td>\n",
       "    </tr>\n",
       "    <tr>\n",
       "      <th>25%</th>\n",
       "      <td>223.500000</td>\n",
       "      <td>0.000000</td>\n",
       "      <td>2.000000</td>\n",
       "      <td>20.125000</td>\n",
       "      <td>0.000000</td>\n",
       "      <td>0.000000</td>\n",
       "      <td>7.910400</td>\n",
       "    </tr>\n",
       "    <tr>\n",
       "      <th>50%</th>\n",
       "      <td>446.000000</td>\n",
       "      <td>0.000000</td>\n",
       "      <td>3.000000</td>\n",
       "      <td>28.000000</td>\n",
       "      <td>0.000000</td>\n",
       "      <td>0.000000</td>\n",
       "      <td>14.454200</td>\n",
       "    </tr>\n",
       "    <tr>\n",
       "      <th>75%</th>\n",
       "      <td>668.500000</td>\n",
       "      <td>1.000000</td>\n",
       "      <td>3.000000</td>\n",
       "      <td>38.000000</td>\n",
       "      <td>1.000000</td>\n",
       "      <td>0.000000</td>\n",
       "      <td>31.000000</td>\n",
       "    </tr>\n",
       "    <tr>\n",
       "      <th>max</th>\n",
       "      <td>891.000000</td>\n",
       "      <td>1.000000</td>\n",
       "      <td>3.000000</td>\n",
       "      <td>80.000000</td>\n",
       "      <td>8.000000</td>\n",
       "      <td>6.000000</td>\n",
       "      <td>512.329200</td>\n",
       "    </tr>\n",
       "  </tbody>\n",
       "</table>\n",
       "</div>"
      ],
      "text/plain": [
       "       PassengerId    Survived      Pclass         Age       SibSp  \\\n",
       "count   891.000000  891.000000  891.000000  714.000000  891.000000   \n",
       "mean    446.000000    0.383838    2.308642   29.699118    0.523008   \n",
       "std     257.353842    0.486592    0.836071   14.526497    1.102743   \n",
       "min       1.000000    0.000000    1.000000    0.420000    0.000000   \n",
       "25%     223.500000    0.000000    2.000000   20.125000    0.000000   \n",
       "50%     446.000000    0.000000    3.000000   28.000000    0.000000   \n",
       "75%     668.500000    1.000000    3.000000   38.000000    1.000000   \n",
       "max     891.000000    1.000000    3.000000   80.000000    8.000000   \n",
       "\n",
       "            Parch        Fare  \n",
       "count  891.000000  891.000000  \n",
       "mean     0.381594   32.204208  \n",
       "std      0.806057   49.693429  \n",
       "min      0.000000    0.000000  \n",
       "25%      0.000000    7.910400  \n",
       "50%      0.000000   14.454200  \n",
       "75%      0.000000   31.000000  \n",
       "max      6.000000  512.329200  "
      ]
     },
     "execution_count": 5,
     "metadata": {},
     "output_type": "execute_result"
    }
   ],
   "source": [
    "#basic information about the data\n",
    "titanic_data.describe()"
   ]
  },
  {
   "cell_type": "markdown",
   "metadata": {},
   "source": [
    "##3. Data Wrangling\n",
    "\n",
    "There are some columns in the dataset which are not much helpful in finding the answers. I will drop following columns from my dataset.\n",
    "* Fare\n",
    "* PassengerId\n",
    "* Embarked\n",
    "* Cabin\n",
    "* Ticket\n",
    "* Name\n"
   ]
  },
  {
   "cell_type": "code",
   "execution_count": 6,
   "metadata": {
    "collapsed": false
   },
   "outputs": [
    {
     "data": {
      "text/html": [
       "<div>\n",
       "<table border=\"1\" class=\"dataframe\">\n",
       "  <thead>\n",
       "    <tr style=\"text-align: right;\">\n",
       "      <th></th>\n",
       "      <th>Survived</th>\n",
       "      <th>Pclass</th>\n",
       "      <th>Sex</th>\n",
       "      <th>Age</th>\n",
       "      <th>SibSp</th>\n",
       "      <th>Parch</th>\n",
       "    </tr>\n",
       "  </thead>\n",
       "  <tbody>\n",
       "    <tr>\n",
       "      <th>0</th>\n",
       "      <td>0</td>\n",
       "      <td>3</td>\n",
       "      <td>male</td>\n",
       "      <td>22.0</td>\n",
       "      <td>1</td>\n",
       "      <td>0</td>\n",
       "    </tr>\n",
       "    <tr>\n",
       "      <th>1</th>\n",
       "      <td>1</td>\n",
       "      <td>1</td>\n",
       "      <td>female</td>\n",
       "      <td>38.0</td>\n",
       "      <td>1</td>\n",
       "      <td>0</td>\n",
       "    </tr>\n",
       "    <tr>\n",
       "      <th>2</th>\n",
       "      <td>1</td>\n",
       "      <td>3</td>\n",
       "      <td>female</td>\n",
       "      <td>26.0</td>\n",
       "      <td>0</td>\n",
       "      <td>0</td>\n",
       "    </tr>\n",
       "    <tr>\n",
       "      <th>3</th>\n",
       "      <td>1</td>\n",
       "      <td>1</td>\n",
       "      <td>female</td>\n",
       "      <td>35.0</td>\n",
       "      <td>1</td>\n",
       "      <td>0</td>\n",
       "    </tr>\n",
       "    <tr>\n",
       "      <th>4</th>\n",
       "      <td>0</td>\n",
       "      <td>3</td>\n",
       "      <td>male</td>\n",
       "      <td>35.0</td>\n",
       "      <td>0</td>\n",
       "      <td>0</td>\n",
       "    </tr>\n",
       "  </tbody>\n",
       "</table>\n",
       "</div>"
      ],
      "text/plain": [
       "   Survived  Pclass     Sex   Age  SibSp  Parch\n",
       "0         0       3    male  22.0      1      0\n",
       "1         1       1  female  38.0      1      0\n",
       "2         1       3  female  26.0      0      0\n",
       "3         1       1  female  35.0      1      0\n",
       "4         0       3    male  35.0      0      0"
      ]
     },
     "execution_count": 6,
     "metadata": {},
     "output_type": "execute_result"
    }
   ],
   "source": [
    "#drop unnecessary columns\n",
    "titanic_data = titanic_data.drop(['PassengerId','Name','Ticket','Fare','Embarked','Cabin'],axis = 1)\n",
    "titanic_data.head()"
   ]
  },
  {
   "cell_type": "markdown",
   "metadata": {},
   "source": [
    "To increase the readability, I will modify **pclass** and **Survived** columns as follows.\n",
    "\n",
    " * pclass - 1 -> upper, 2 -> middle, 3 -> lower\n",
    " \n",
    " * Survived - 0 -> False, 1 -> True"
   ]
  },
  {
   "cell_type": "code",
   "execution_count": 7,
   "metadata": {
    "collapsed": false
   },
   "outputs": [
    {
     "data": {
      "text/html": [
       "<div>\n",
       "<table border=\"1\" class=\"dataframe\">\n",
       "  <thead>\n",
       "    <tr style=\"text-align: right;\">\n",
       "      <th></th>\n",
       "      <th>Survived</th>\n",
       "      <th>Pclass</th>\n",
       "      <th>Sex</th>\n",
       "      <th>Age</th>\n",
       "      <th>SibSp</th>\n",
       "      <th>Parch</th>\n",
       "    </tr>\n",
       "  </thead>\n",
       "  <tbody>\n",
       "    <tr>\n",
       "      <th>0</th>\n",
       "      <td>False</td>\n",
       "      <td>Lower</td>\n",
       "      <td>male</td>\n",
       "      <td>22.0</td>\n",
       "      <td>1</td>\n",
       "      <td>0</td>\n",
       "    </tr>\n",
       "    <tr>\n",
       "      <th>1</th>\n",
       "      <td>True</td>\n",
       "      <td>Upper</td>\n",
       "      <td>female</td>\n",
       "      <td>38.0</td>\n",
       "      <td>1</td>\n",
       "      <td>0</td>\n",
       "    </tr>\n",
       "    <tr>\n",
       "      <th>2</th>\n",
       "      <td>True</td>\n",
       "      <td>Lower</td>\n",
       "      <td>female</td>\n",
       "      <td>26.0</td>\n",
       "      <td>0</td>\n",
       "      <td>0</td>\n",
       "    </tr>\n",
       "    <tr>\n",
       "      <th>3</th>\n",
       "      <td>True</td>\n",
       "      <td>Upper</td>\n",
       "      <td>female</td>\n",
       "      <td>35.0</td>\n",
       "      <td>1</td>\n",
       "      <td>0</td>\n",
       "    </tr>\n",
       "    <tr>\n",
       "      <th>4</th>\n",
       "      <td>False</td>\n",
       "      <td>Lower</td>\n",
       "      <td>male</td>\n",
       "      <td>35.0</td>\n",
       "      <td>0</td>\n",
       "      <td>0</td>\n",
       "    </tr>\n",
       "  </tbody>\n",
       "</table>\n",
       "</div>"
      ],
      "text/plain": [
       "  Survived Pclass     Sex   Age  SibSp  Parch\n",
       "0    False  Lower    male  22.0      1      0\n",
       "1     True  Upper  female  38.0      1      0\n",
       "2     True  Lower  female  26.0      0      0\n",
       "3     True  Upper  female  35.0      1      0\n",
       "4    False  Lower    male  35.0      0      0"
      ]
     },
     "execution_count": 7,
     "metadata": {},
     "output_type": "execute_result"
    }
   ],
   "source": [
    "#mapping social class values\n",
    "def conv_class(pclass):\n",
    "    if pclass == 1:\n",
    "        return 'Upper'\n",
    "    elif pclass == 2:\n",
    "        return 'Middle'\n",
    "    else:\n",
    "        return 'Lower'\n",
    "    \n",
    "\n",
    "#mapping survived status\n",
    "def conv_survived_status(status):\n",
    "    if status == 1:\n",
    "        return 'True'\n",
    "    else:\n",
    "        return 'False'\n",
    "    \n",
    "titanic_data.loc[:,'Survived'] = titanic_data.loc[:,'Survived'].apply(conv_survived_status)\n",
    "titanic_data.loc[:,'Pclass'] = titanic_data.loc[:,'Pclass'].apply(conv_class)\n",
    "\n",
    "titanic_data.head()"
   ]
  },
  {
   "cell_type": "markdown",
   "metadata": {},
   "source": [
    "##4. Data Exploration and Visualization\n",
    "\n",
    "###4.1 Number of Survivors and Non-Survivors"
   ]
  },
  {
   "cell_type": "code",
   "execution_count": 8,
   "metadata": {
    "collapsed": false
   },
   "outputs": [
    {
     "name": "stdout",
     "output_type": "stream",
     "text": [
      "Total Records: 891 \n",
      "Number of survivors: 549 \n",
      "Number of non survivors: 342\n"
     ]
    },
    {
     "data": {
      "image/png": "[encoded data removed]",
      "text/plain": [
       "<matplotlib.figure.Figure at 0x7f4e3fe87890>"
      ]
     },
     "metadata": {},
     "output_type": "display_data"
    }
   ],
   "source": [
    "#Number of survivors and non-survivors\n",
    "sns.factorplot('Survived',data = titanic_data, kind='count')\n",
    "sns.plt.title('Survivors vs Non-Survivors')\n",
    "survivors = len(titanic_data[titanic_data.Survived=='False'])\n",
    "nonsurvivors = len(titanic_data[titanic_data.Survived=='True'])\n",
    "total_rec = len(titanic_data)\n",
    "print 'Total Records: {} \\nNumber of survivors: {} \\nNumber of non survivors: {}'.format(total_rec, survivors, nonsurvivors)"
   ]
  },
  {
   "cell_type": "markdown",
   "metadata": {},
   "source": [
    "###4.2 Which gender had better survival chance?\n",
    "\n",
    "Let's first see how many males and females were on ship and who survived more."
   ]
  },
  {
   "cell_type": "code",
   "execution_count": 9,
   "metadata": {
    "collapsed": false
   },
   "outputs": [
    {
     "name": "stdout",
     "output_type": "stream",
     "text": [
      "Survived  False  True\n",
      "Sex                  \n",
      "female       81   233\n",
      "male        468   109\n",
      "\n",
      "\n",
      "Proportion of survivors and non-survivors by gender\n",
      "\n",
      "Survived     False      True\n",
      "Sex                         \n",
      "female    0.147541  0.681287\n",
      "male      0.852459  0.318713\n"
     ]
    },
    {
     "data": {
      "image/png": "[encoded data removed]",
      "text/plain": [
       "<matplotlib.figure.Figure at 0x7f4e3c9f2450>"
      ]
     },
     "metadata": {},
     "output_type": "display_data"
    }
   ],
   "source": [
    "#survival rate by gender\n",
    "sns.factorplot('Sex',hue='Survived', data = titanic_data, kind='count')\n",
    "sns.plt.title('Survival count by gender')\n",
    "tot_gender = pd.crosstab(titanic_data['Sex'], titanic_data['Survived'])\n",
    "print tot_gender\n",
    "\n",
    "print '\\n'\n",
    "print 'Proportion of survivors and non-survivors by gender\\n'\n",
    "colsum = tot_gender.sum(axis = 0)\n",
    "colpct = tot_gender/colsum\n",
    "\n",
    "print colpct\n"
   ]
  },
  {
   "cell_type": "markdown",
   "metadata": {},
   "source": [
    "Above graph shows that although there were more males than females but still survival rate for females was high. \n",
    "\n",
    "But to see whether gender actually had any impact on survival, let's perform a chi-square test.\n",
    "\n",
    "**Hypothesis:**\n",
    "\n",
    "Ho : Gender had no affect on survival rate\n",
    "\n",
    "HA : Gender had affect on survival rate\n",
    "\n",
    "Here gender is independent variable and survival status dependent variable."
   ]
  },
  {
   "cell_type": "code",
   "execution_count": 10,
   "metadata": {
    "collapsed": false
   },
   "outputs": [
    {
     "data": {
      "text/plain": [
       "[['Item', 'Value'],\n",
       " ['Chi-Square Test', 260.71702],\n",
       " ['P-Value', 0.0],\n",
       " ['corr', 0.540936]]"
      ]
     },
     "execution_count": 10,
     "metadata": {},
     "output_type": "execute_result"
    }
   ],
   "source": [
    "#chi-square test on gender\n",
    "chi_gender = pd.crosstab(titanic_data['Sex'], titanic_data['Survived'])\n",
    "chi_g, p_g, dof_g, expected_g = stats.chi2_contingency(chi_gender.values)\n",
    "phi_gen = np.sqrt(chi_g/len(titanic_data))\n",
    "\n",
    "results = [\n",
    "    ['Item','Value'],\n",
    "    ['Chi-Square Test',round(chi_g,6)],\n",
    "    ['P-Value', round(p_g,2)],\n",
    "    ['corr',round(phi_gen,6)]\n",
    "]\n",
    "results"
   ]
  },
  {
   "cell_type": "markdown",
   "metadata": {},
   "source": [
    "here p < 0.05 thus we can reject our null hypothesis and we can say that gender had high impact on survival rate. And as our graph also confirms the result we can say that female have survived more as compared to men."
   ]
  },
  {
   "cell_type": "markdown",
   "metadata": {},
   "source": [
    "###4.3 Had social class any impact on survival?"
   ]
  },
  {
   "cell_type": "code",
   "execution_count": 11,
   "metadata": {
    "collapsed": false
   },
   "outputs": [
    {
     "name": "stdout",
     "output_type": "stream",
     "text": [
      "Survived  False  True\n",
      "Pclass               \n",
      "Lower       372   119\n",
      "Middle       97    87\n",
      "Upper        80   136\n",
      "\n",
      "\n",
      "Proportion of survivors and non-survivors by class\n",
      "\n",
      "Survived     False      True\n",
      "Pclass                      \n",
      "Lower     0.677596  0.347953\n",
      "Middle    0.176685  0.254386\n",
      "Upper     0.145719  0.397661\n"
     ]
    },
    {
     "data": {
      "image/png": "[encoded data removed]",
      "text/plain": [
       "<matplotlib.figure.Figure at 0x7f4e3c99a2d0>"
      ]
     },
     "metadata": {},
     "output_type": "display_data"
    }
   ],
   "source": [
    "#survival by class\n",
    "sns.factorplot('Pclass',hue='Survived', data = titanic_data, kind='count')\n",
    "sns.plt.title('Count of survivors and non survivors by class')\n",
    "\n",
    "pclass = pd.crosstab(titanic_data['Pclass'], titanic_data['Survived'])\n",
    "print pclass\n",
    "\n",
    "print '\\n'\n",
    "print 'Proportion of survivors and non-survivors by class\\n'\n",
    "colsum = pclass.sum(axis = 0)\n",
    "colpct = pclass/colsum\n",
    "\n",
    "print colpct"
   ]
  },
  {
   "cell_type": "markdown",
   "metadata": {},
   "source": [
    "From above graph we see that maximum number of people belonged to lower class but survival rate for upper class people is  higher then other middle and lower class people."
   ]
  },
  {
   "cell_type": "code",
   "execution_count": 12,
   "metadata": {
    "collapsed": false
   },
   "outputs": [
    {
     "name": "stdout",
     "output_type": "stream",
     "text": [
      "Pclass  Survived  Sex   \n",
      "Lower   False     female     72\n",
      "                  male      300\n",
      "        True      female     72\n",
      "                  male       47\n",
      "Middle  False     female      6\n",
      "                  male       91\n",
      "        True      female     70\n",
      "                  male       17\n",
      "Upper   False     female      3\n",
      "                  male       77\n",
      "        True      female     91\n",
      "                  male       45\n",
      "dtype: int64\n"
     ]
    },
    {
     "data": {
      "image/png": "[encoded data removed]",
      "text/plain": [
       "<matplotlib.figure.Figure at 0x7f4e3c97d990>"
      ]
     },
     "metadata": {},
     "output_type": "display_data"
    }
   ],
   "source": [
    "#survival by class and gender\n",
    "\n",
    "# count of passengers by survival, group and sex\n",
    "groupedby_class_survived_size = titanic_data.groupby(['Pclass','Survived','Sex']).size()\n",
    "\n",
    "# Print - Grouped by class, survival and sex\n",
    "print groupedby_class_survived_size\n",
    "\n",
    "# Graph - Grouped by class, survival and sex\n",
    "g = sns.factorplot('Survived', col='Sex', hue='Pclass', data=titanic_data, kind='count')\n",
    "\n",
    "# Fix up the labels\n",
    "(g.set_axis_labels('Survivors', 'No. of Passengers')\n",
    "    .set_xticklabels([\"False\", \"True\"])\n",
    "    .set_titles('{col_name}')\n",
    ")\n",
    "\n",
    "titles = ['Male', 'Female']\n",
    "for ax, title in zip(g.axes.flat, titles):\n",
    "    ax.set_title(title)\n"
   ]
  },
  {
   "cell_type": "markdown",
   "metadata": {},
   "source": [
    "Above plots shows that survival rate for females is higher than survival rate of men for each class type.\n",
    "\n",
    "Now let's see whether class level had really any impact on survival.\n",
    "\n",
    "Hypothesis\n",
    "\n",
    "Ho : Class had no affect on survival rate\n",
    "\n",
    "HA : Class had affect on survival rate\n",
    "\n",
    "Here Class is independent variable and survival status dependent variable."
   ]
  },
  {
   "cell_type": "code",
   "execution_count": 13,
   "metadata": {
    "collapsed": false
   },
   "outputs": [
    {
     "data": {
      "text/plain": [
       "[['Item', 'Value'],\n",
       " ['Chi-Square Test', 102.888989],\n",
       " ['P-Value', 0.0],\n",
       " ['corr', 0.339817]]"
      ]
     },
     "execution_count": 13,
     "metadata": {},
     "output_type": "execute_result"
    }
   ],
   "source": [
    "#Chi-square test on class type\n",
    "chi_class = pd.crosstab(titanic_data['Survived'], titanic_data['Pclass'])\n",
    "chi_cl, p_cl, dof_cl, expected_cl = stats.chi2_contingency(chi_class.values)\n",
    "phi_cl = np.sqrt(chi_cl/len(titanic_data))\n",
    "\n",
    "results = [\n",
    "    ['Item','Value'],\n",
    "    ['Chi-Square Test',round(chi_cl,6)],\n",
    "    ['P-Value', round(p_cl,6)],\n",
    "    ['corr',round(phi_cl,6)]\n",
    "]\n",
    "results"
   ]
  },
  {
   "cell_type": "markdown",
   "metadata": {},
   "source": [
    "As the P-Value is less than 0.05 the probability of that the social class will impact the chances of survival is high. Therefore we can reject the null hypothesis."
   ]
  },
  {
   "cell_type": "markdown",
   "metadata": {},
   "source": [
    "###4.4 Did any age group had better chance of survival?"
   ]
  },
  {
   "cell_type": "code",
   "execution_count": 16,
   "metadata": {
    "collapsed": false
   },
   "outputs": [
    {
     "data": {
      "text/plain": [
       "<matplotlib.text.Text at 0x7f4e3ca70bd0>"
      ]
     },
     "execution_count": 16,
     "metadata": {},
     "output_type": "execute_result"
    },
    {
     "data": {
      "image/png": "[encoded data removed]",
      "text/plain": [
       "<matplotlib.figure.Figure at 0x7f4e3c9905d0>"
      ]
     },
     "metadata": {},
     "output_type": "display_data"
    }
   ],
   "source": [
    "#Age of survivors and non-survivors\n",
    "fig = sns.FacetGrid(titanic_data, hue='Survived', aspect=4)\n",
    "sns.plt.title('Age of survivors and non-survivors')\n",
    "fig.map(sns.kdeplot, 'Age', shade=True)\n",
    "oldest = titanic_data['Age'].max()\n",
    "fig.set(xlim=(1, oldest))\n",
    "fig.add_legend()\n",
    "plt.ylabel('Density')"
   ]
  },
  {
   "cell_type": "markdown",
   "metadata": {},
   "source": [
    "From the graph we see that most of the people on ship were between the age of 20 and 30. This graph doesn't include the records with the missing age."
   ]
  },
  {
   "cell_type": "code",
   "execution_count": 17,
   "metadata": {
    "collapsed": false
   },
   "outputs": [
    {
     "data": {
      "text/plain": [
       "<matplotlib.text.Text at 0x7f4e3c987f10>"
      ]
     },
     "execution_count": 17,
     "metadata": {},
     "output_type": "execute_result"
    },
    {
     "data": {
      "image/png": "[encoded data removed]",
      "text/plain": [
       "<matplotlib.figure.Figure at 0x7f4e3ca520d0>"
      ]
     },
     "metadata": {},
     "output_type": "display_data"
    }
   ],
   "source": [
    "#Adding age group\n",
    "age_labels = ['0-9', '10-19', '20-29', '30-39', '40-49', '50-59', '60-69', '70-79','80-89']\n",
    "titanic_data['age_group'] = pd.cut(titanic_data.Age, range(0, 91, 10), right=False, labels=age_labels)\n",
    "titanic_data.groupby(['age_group']).size().plot(kind='bar',stacked=True)\n",
    "plt.title(\"Distribution of Age Groups\",fontsize=14)\n",
    "plt.ylabel('frequency')\n",
    "plt.xlabel('Age Group')"
   ]
  },
  {
   "cell_type": "code",
   "execution_count": 18,
   "metadata": {
    "collapsed": false
   },
   "outputs": [
    {
     "data": {
      "text/plain": [
       "[['Item', 'Value'],\n",
       " ['Chi-Square Test', 20.981463],\n",
       " ['P-Value', 0.007197],\n",
       " ['corr', 0.153454]]"
      ]
     },
     "execution_count": 18,
     "metadata": {},
     "output_type": "execute_result"
    }
   ],
   "source": [
    "#chi-square test on age group\n",
    "chi_agegp = pd.crosstab(titanic_data['Survived'], titanic_data['age_group'])\n",
    "chi_age, p_age, dof_age, expected_age = stats.chi2_contingency(chi_agegp.values)\n",
    "phi_age = np.sqrt(chi_age/len(titanic_data))\n",
    "\n",
    "results = [\n",
    "    ['Item','Value'],\n",
    "    ['Chi-Square Test',round(chi_age,6)],\n",
    "    ['P-Value', round(p_age,6)],\n",
    "    ['corr',round(phi_age,6)]\n",
    "]\n",
    "results"
   ]
  },
  {
   "cell_type": "markdown",
   "metadata": {},
   "source": [
    "As the P-Value is less than 0.05 we can say age had some impact on survival rate and we can reject our null hypothesis."
   ]
  },
  {
   "cell_type": "markdown",
   "metadata": {},
   "source": [
    "###4.5 What about the survival rate of children, women and men?"
   ]
  },
  {
   "cell_type": "code",
   "execution_count": 19,
   "metadata": {
    "collapsed": false
   },
   "outputs": [
    {
     "data": {
      "text/html": [
       "<div>\n",
       "<table border=\"1\" class=\"dataframe\">\n",
       "  <thead>\n",
       "    <tr style=\"text-align: right;\">\n",
       "      <th></th>\n",
       "      <th>Survived</th>\n",
       "      <th>Pclass</th>\n",
       "      <th>Sex</th>\n",
       "      <th>Age</th>\n",
       "      <th>SibSp</th>\n",
       "      <th>Parch</th>\n",
       "      <th>age_group</th>\n",
       "      <th>Person</th>\n",
       "    </tr>\n",
       "  </thead>\n",
       "  <tbody>\n",
       "    <tr>\n",
       "      <th>0</th>\n",
       "      <td>False</td>\n",
       "      <td>Lower</td>\n",
       "      <td>male</td>\n",
       "      <td>22.0</td>\n",
       "      <td>1</td>\n",
       "      <td>0</td>\n",
       "      <td>20-29</td>\n",
       "      <td>man</td>\n",
       "    </tr>\n",
       "    <tr>\n",
       "      <th>1</th>\n",
       "      <td>True</td>\n",
       "      <td>Upper</td>\n",
       "      <td>female</td>\n",
       "      <td>38.0</td>\n",
       "      <td>1</td>\n",
       "      <td>0</td>\n",
       "      <td>30-39</td>\n",
       "      <td>woman</td>\n",
       "    </tr>\n",
       "    <tr>\n",
       "      <th>2</th>\n",
       "      <td>True</td>\n",
       "      <td>Lower</td>\n",
       "      <td>female</td>\n",
       "      <td>26.0</td>\n",
       "      <td>0</td>\n",
       "      <td>0</td>\n",
       "      <td>20-29</td>\n",
       "      <td>woman</td>\n",
       "    </tr>\n",
       "    <tr>\n",
       "      <th>3</th>\n",
       "      <td>True</td>\n",
       "      <td>Upper</td>\n",
       "      <td>female</td>\n",
       "      <td>35.0</td>\n",
       "      <td>1</td>\n",
       "      <td>0</td>\n",
       "      <td>30-39</td>\n",
       "      <td>woman</td>\n",
       "    </tr>\n",
       "    <tr>\n",
       "      <th>4</th>\n",
       "      <td>False</td>\n",
       "      <td>Lower</td>\n",
       "      <td>male</td>\n",
       "      <td>35.0</td>\n",
       "      <td>0</td>\n",
       "      <td>0</td>\n",
       "      <td>30-39</td>\n",
       "      <td>man</td>\n",
       "    </tr>\n",
       "  </tbody>\n",
       "</table>\n",
       "</div>"
      ],
      "text/plain": [
       "  Survived Pclass     Sex   Age  SibSp  Parch age_group Person\n",
       "0    False  Lower    male  22.0      1      0     20-29    man\n",
       "1     True  Upper  female  38.0      1      0     30-39  woman\n",
       "2     True  Lower  female  26.0      0      0     20-29  woman\n",
       "3     True  Upper  female  35.0      1      0     30-39  woman\n",
       "4    False  Lower    male  35.0      0      0     30-39    man"
      ]
     },
     "execution_count": 19,
     "metadata": {},
     "output_type": "execute_result"
    }
   ],
   "source": [
    "#Categorizing Child or woman vs man\n",
    "def ischild(category):\n",
    "    if (category['Age'] <= 14):\n",
    "        return 'child'\n",
    "    elif (category['Sex'] == 'female'):\n",
    "        return 'woman'\n",
    "    else:\n",
    "        return 'man'\n",
    "\n",
    "titanic_data.loc[:,'Person'] = titanic_data.apply(ischild,axis = 1)\n",
    "titanic_data.head()"
   ]
  },
  {
   "cell_type": "code",
   "execution_count": 20,
   "metadata": {
    "collapsed": false
   },
   "outputs": [
    {
     "data": {
      "text/plain": [
       "Pclass  Person\n",
       "Lower   child      53\n",
       "        man       320\n",
       "        woman     118\n",
       "Middle  child      19\n",
       "        man        99\n",
       "        woman      66\n",
       "Upper   child       5\n",
       "        man       119\n",
       "        woman      92\n",
       "dtype: int64"
      ]
     },
     "execution_count": 20,
     "metadata": {},
     "output_type": "execute_result"
    },
    {
     "data": {
      "image/png": "[encoded data removed]",
      "text/plain": [
       "<matplotlib.figure.Figure at 0x7f4e3c7f0b90>"
      ]
     },
     "metadata": {},
     "output_type": "display_data"
    }
   ],
   "source": [
    "#Totals grouped by men, women and children and by class\n",
    "sns.countplot(x=\"Pclass\", hue=\"Person\", data=titanic_data)\n",
    "sns.plt.title('Total men, women and children grouped by class')\n",
    "groupedby_personclass = titanic_data.groupby(['Pclass','Person']).size()\n",
    "groupedby_personclass"
   ]
  },
  {
   "cell_type": "code",
   "execution_count": 21,
   "metadata": {
    "collapsed": false
   },
   "outputs": [
    {
     "name": "stdout",
     "output_type": "stream",
     "text": [
      "Person    child  man  woman\n",
      "Survived                   \n",
      "False        32  450     67\n",
      "True         45   88    209\n",
      "\n",
      "\n",
      "Person       child       man     woman\n",
      "Survived                              \n",
      "False     0.415584  0.836431  0.242754\n",
      "True      0.584416  0.163569  0.757246\n"
     ]
    },
    {
     "data": {
      "image/png": "[encoded data removed]",
      "text/plain": [
       "<matplotlib.figure.Figure at 0x7f4e3c990790>"
      ]
     },
     "metadata": {},
     "output_type": "display_data"
    }
   ],
   "source": [
    "# Get the totals grouped by Men, Women and Children, and by survival\n",
    "person_perc = pd.crosstab(titanic_data['Survived'], titanic_data['Person'])\n",
    "print person_perc\n",
    "print '\\n'\n",
    "\n",
    "#Get proportion grouped Men, Women and Children, and by survival\n",
    "colsum = person_perc.sum(axis = 0)\n",
    "colpct = person_perc/colsum\n",
    "print colpct\n",
    "\n",
    "# Graph - Compare survival count between Men, Women and Children\n",
    "g = sns.factorplot('Survived', col='Person', data=titanic_data, kind='count')\n",
    "\n",
    "# Fix up the labels\n",
    "g.set_axis_labels('Survivors', 'No. of Passengers')\n",
    "\n",
    "#Ttiles for graphs\n",
    "titles = ['Men', 'Women', 'Children']\n",
    "for ax, title in zip(g.axes.flat, titles):\n",
    "    ax.set_title(title)"
   ]
  },
  {
   "cell_type": "markdown",
   "metadata": {},
   "source": [
    "The plot shows that women survival rate was high as compared to men. But a point worth noting is that the children survival rate is not as high as expected."
   ]
  },
  {
   "cell_type": "markdown",
   "metadata": {},
   "source": [
    "###4.6 Survivors with and without family"
   ]
  },
  {
   "cell_type": "code",
   "execution_count": 22,
   "metadata": {
    "collapsed": false
   },
   "outputs": [
    {
     "data": {
      "text/html": [
       "<div>\n",
       "<table border=\"1\" class=\"dataframe\">\n",
       "  <thead>\n",
       "    <tr style=\"text-align: right;\">\n",
       "      <th></th>\n",
       "      <th>Survived</th>\n",
       "      <th>Pclass</th>\n",
       "      <th>Sex</th>\n",
       "      <th>Age</th>\n",
       "      <th>SibSp</th>\n",
       "      <th>Parch</th>\n",
       "      <th>age_group</th>\n",
       "      <th>Person</th>\n",
       "      <th>isalone</th>\n",
       "    </tr>\n",
       "  </thead>\n",
       "  <tbody>\n",
       "    <tr>\n",
       "      <th>0</th>\n",
       "      <td>False</td>\n",
       "      <td>Lower</td>\n",
       "      <td>male</td>\n",
       "      <td>22.0</td>\n",
       "      <td>1</td>\n",
       "      <td>0</td>\n",
       "      <td>20-29</td>\n",
       "      <td>man</td>\n",
       "      <td>False</td>\n",
       "    </tr>\n",
       "    <tr>\n",
       "      <th>1</th>\n",
       "      <td>True</td>\n",
       "      <td>Upper</td>\n",
       "      <td>female</td>\n",
       "      <td>38.0</td>\n",
       "      <td>1</td>\n",
       "      <td>0</td>\n",
       "      <td>30-39</td>\n",
       "      <td>woman</td>\n",
       "      <td>False</td>\n",
       "    </tr>\n",
       "    <tr>\n",
       "      <th>2</th>\n",
       "      <td>True</td>\n",
       "      <td>Lower</td>\n",
       "      <td>female</td>\n",
       "      <td>26.0</td>\n",
       "      <td>0</td>\n",
       "      <td>0</td>\n",
       "      <td>20-29</td>\n",
       "      <td>woman</td>\n",
       "      <td>True</td>\n",
       "    </tr>\n",
       "    <tr>\n",
       "      <th>3</th>\n",
       "      <td>True</td>\n",
       "      <td>Upper</td>\n",
       "      <td>female</td>\n",
       "      <td>35.0</td>\n",
       "      <td>1</td>\n",
       "      <td>0</td>\n",
       "      <td>30-39</td>\n",
       "      <td>woman</td>\n",
       "      <td>False</td>\n",
       "    </tr>\n",
       "    <tr>\n",
       "      <th>4</th>\n",
       "      <td>False</td>\n",
       "      <td>Lower</td>\n",
       "      <td>male</td>\n",
       "      <td>35.0</td>\n",
       "      <td>0</td>\n",
       "      <td>0</td>\n",
       "      <td>30-39</td>\n",
       "      <td>man</td>\n",
       "      <td>True</td>\n",
       "    </tr>\n",
       "  </tbody>\n",
       "</table>\n",
       "</div>"
      ],
      "text/plain": [
       "  Survived Pclass     Sex   Age  SibSp  Parch age_group Person isalone\n",
       "0    False  Lower    male  22.0      1      0     20-29    man   False\n",
       "1     True  Upper  female  38.0      1      0     30-39  woman   False\n",
       "2     True  Lower  female  26.0      0      0     20-29  woman    True\n",
       "3     True  Upper  female  35.0      1      0     30-39  woman   False\n",
       "4    False  Lower    male  35.0      0      0     30-39    man    True"
      ]
     },
     "execution_count": 22,
     "metadata": {},
     "output_type": "execute_result"
    }
   ],
   "source": [
    "#adding column that tells whether person was with family or not\n",
    "def isalone(family):\n",
    "    if((family['Parch'] == 0) & (family['SibSp'] == 0)):\n",
    "        return 'True'\n",
    "    else:\n",
    "        return 'False'\n",
    "    \n",
    "titanic_data.loc[:,'isalone'] = titanic_data.apply(isalone,axis = 1)\n",
    "titanic_data.head()"
   ]
  },
  {
   "cell_type": "code",
   "execution_count": 23,
   "metadata": {
    "collapsed": false
   },
   "outputs": [
    {
     "name": "stdout",
     "output_type": "stream",
     "text": [
      "isalone   False  True\n",
      "Survived             \n",
      "False       175   374\n",
      "True        179   163\n",
      "\n",
      "\n",
      "isalone     False      True\n",
      "Survived                   \n",
      "False     0.49435  0.696462\n",
      "True      0.50565  0.303538\n"
     ]
    },
    {
     "data": {
      "image/png": "[encoded data removed]",
      "text/plain": [
       "<matplotlib.figure.Figure at 0x7f4e3c2f40d0>"
      ]
     },
     "metadata": {},
     "output_type": "display_data"
    }
   ],
   "source": [
    "#get totals grouped by islone status and survival\n",
    "alone_perc = pd.crosstab(titanic_data['Survived'], titanic_data['isalone'])\n",
    "print alone_perc\n",
    "\n",
    "print '\\n'\n",
    "colsum = alone_perc.sum(axis = 0)\n",
    "colpct = alone_perc/colsum\n",
    "\n",
    "print colpct\n",
    "\n",
    "# Graph - survival count of person with and without family\n",
    "g = sns.factorplot('Survived', col='isalone', data=titanic_data, kind='count')\n",
    "# Fix up the labels\n",
    "g.set_axis_labels('Survivors', 'No. of Passengers')\n",
    "#Fix up titles\n",
    "titles = ['with Family', 'Alone']\n",
    "for ax, title in zip(g.axes.flat, titles):\n",
    "    ax.set_title(title)"
   ]
  },
  {
   "cell_type": "markdown",
   "metadata": {},
   "source": [
    "There is not a major difference between survival rate of people with ot without family"
   ]
  },
  {
   "cell_type": "markdown",
   "metadata": {},
   "source": [
    "##6. Conclusion"
   ]
  },
  {
   "cell_type": "markdown",
   "metadata": {},
   "source": [
    "The results of the analysis appears to indicate that overall population of males was quite high on ship but still survival rate for female was more. Upper class people had high survival chance as compared to lower and middle class people. Age also had some impact on survival rate."
   ]
  },
  {
   "cell_type": "markdown",
   "metadata": {},
   "source": [
    "##7. References\n",
    "\n",
    "http://changingminds.org/explanations/research/analysis/chi-square.htm\n",
    "\n",
    "http://changingminds.org/explanations/research/analysis/phi.htm\n",
    "\n",
    "http://learntech.uwe.ac.uk/da/Default.aspx?pageid=1440\n",
    "\n",
    "http://www.people.vcu.edu/~pdattalo/702SuppRead/MeasAssoc/NominalAssoc.html\n",
    "\n",
    "https://cyfar.org/types-statistical-tests"
   ]
  }
 ],
 "metadata": {
  "kernelspec": {
   "display_name": "Python 2",
   "language": "python",
   "name": "python2"
  },
  "language_info": {
   "codemirror_mode": {
    "name": "ipython",
    "version": 2
   },
   "file_extension": ".py",
   "mimetype": "text/x-python",
   "name": "python",
   "nbconvert_exporter": "python",
   "pygments_lexer": "ipython2",
   "version": "2.7.13"
  }
 },
 "nbformat": 4,
 "nbformat_minor": 2
}
